{
 "cells": [
  {
   "cell_type": "markdown",
   "id": "ad8a5528",
   "metadata": {},
   "source": [
    "# Exercice 1.11 du devoir "
   ]
  },
  {
   "cell_type": "markdown",
   "id": "1741e930",
   "metadata": {},
   "source": [
    "Márcio Reverbel"
   ]
  },
  {
   "cell_type": "code",
   "execution_count": 11,
   "id": "17632199",
   "metadata": {},
   "outputs": [],
   "source": [
    "import numpy as np\n",
    "import numpy.linalg as la"
   ]
  },
  {
   "cell_type": "code",
   "execution_count": 12,
   "id": "1eadacba",
   "metadata": {
    "scrolled": true
   },
   "outputs": [
    {
     "data": {
      "text/plain": [
       "array([[0, 1, 2],\n",
       "       [1, 0, 1],\n",
       "       [2, 1, 0]])"
      ]
     },
     "execution_count": 12,
     "metadata": {},
     "output_type": "execute_result"
    }
   ],
   "source": [
    "# We use P to indicate the matrix of weights, as D already is used to \n",
    "# represent the matrix of distances.\n",
    "I = np.identity(3)\n",
    "P = 1/3*I\n",
    "D = np.array([[0, 0, 0],[0, 0, 0],[0, 0, 0]])\n",
    "ones = np.ones((3, 3))\n",
    "D[0,1], D[1,2], D[1,0], D[2,1], D[0,2], D[2,0] = 1, 1, 1, 1, 2, 2\n",
    "\n",
    "D"
   ]
  },
  {
   "cell_type": "code",
   "execution_count": 13,
   "id": "e801d1ab",
   "metadata": {},
   "outputs": [
    {
     "data": {
      "text/plain": [
       "array([[ 0.18518519, -0.03703704, -0.14814815],\n",
       "       [-0.03703704,  0.07407407, -0.03703704],\n",
       "       [-0.14814815, -0.03703704,  0.18518519]])"
      ]
     },
     "execution_count": 13,
     "metadata": {},
     "output_type": "execute_result"
    }
   ],
   "source": [
    "W = -0.5*(D - P@ones@D - D@ones@P + P@ones@D@ones@P)\n",
    "WP = W@P\n",
    "WP"
   ]
  },
  {
   "cell_type": "code",
   "execution_count": 14,
   "id": "9a26ebcb",
   "metadata": {},
   "outputs": [
    {
     "name": "stdout",
     "output_type": "stream",
     "text": [
      "The eigenvalues are: \n",
      "\n",
      "[3.33333333e-01 9.24917627e-18 1.11111111e-01]\n",
      "\n",
      "And their respective (unit) eigenvectors are: \n",
      "\n",
      "[[-7.07106781e-01  5.77350269e-01  4.08248290e-01]\n",
      " [ 1.90819582e-17  5.77350269e-01 -8.16496581e-01]\n",
      " [ 7.07106781e-01  5.77350269e-01  4.08248290e-01]]\n"
     ]
    }
   ],
   "source": [
    "eigenvalue, eigenvector = la.eig(WP)\n",
    "\n",
    "print(\"The eigenvalues are: \\n\\n{}\".format(eigenvalue))\n",
    "print()\n",
    "print(\"And their respective (unit) eigenvectors are: \\n\\n{}\".format(eigenvector)) "
   ]
  },
  {
   "cell_type": "code",
   "execution_count": 15,
   "id": "f3f982a4",
   "metadata": {},
   "outputs": [],
   "source": [
    "# The eigenvectors are columns of the matrix. We make the following transformation \n",
    "# to make it easier to manipulate:\n",
    "eigenvector = eigenvector.T"
   ]
  },
  {
   "cell_type": "code",
   "execution_count": 16,
   "id": "77c0024e",
   "metadata": {
    "scrolled": true
   },
   "outputs": [
    {
     "name": "stdout",
     "output_type": "stream",
     "text": [
      "||[-7.07106781e-01  1.90819582e-17  7.07106781e-01]||² = 1.0\n",
      "\n",
      "||[0.57735027 0.57735027 0.57735027]||² = 1.0\n",
      "\n",
      "||[ 0.40824829 -0.81649658  0.40824829]||² = 1.0\n",
      "\n"
     ]
    }
   ],
   "source": [
    "# Notice how the second vector is indeed [sqrt(Pi)], the scaled 'ones' vector \n",
    "# mentioned in exercise 1.9:\n",
    "\n",
    "for i in range(3):\n",
    "    print(\"||{}||² = {}\\n\".format(eigenvector[i], la.norm(eigenvector[i])))"
   ]
  },
  {
   "cell_type": "code",
   "execution_count": 17,
   "id": "e9fd52ec",
   "metadata": {
    "scrolled": true
   },
   "outputs": [
    {
     "name": "stdout",
     "output_type": "stream",
     "text": [
      "[ True  True  True]\n",
      "[ True  True  True]\n",
      "[ True  True  True]\n"
     ]
    }
   ],
   "source": [
    "# Here we test that the calculations indeed make sense, \n",
    "# by testing WP*v = Lambda * v, the definition of eigenvectors and eigenvalues.\n",
    "\n",
    "# (True => values are sufficiently close, considering float point approximations.)\n",
    "\n",
    "for val, vec in zip(eigenvalue, eigenvector):\n",
    "    print(np.isclose(WP@vec, val*vec)) "
   ]
  },
  {
   "cell_type": "markdown",
   "id": "1b79eb32",
   "metadata": {},
   "source": [
    "We can clean the eigenvalues and eigenvectors a little bit, since they're \n",
    "approximated calculations by the computer sometimes lead to unpractical \n",
    "representations (such as 1.90819582e-17, which is equal to 0)."
   ]
  },
  {
   "cell_type": "code",
   "execution_count": 21,
   "id": "9dc9146d",
   "metadata": {},
   "outputs": [
    {
     "name": "stdout",
     "output_type": "stream",
     "text": [
      "1.0\n",
      "1.0000000000000002\n",
      "1.0\n"
     ]
    }
   ],
   "source": [
    "eigenvalue[1] = 0\n",
    "eigenvector[0][1] = 0\n",
    "\n",
    "# Checking that the calculated eigenvectors are indeed unit vectors:\n",
    "\n",
    "for i in range(3): \n",
    "    print(eigenvector[i]@eigenvector[i])"
   ]
  },
  {
   "cell_type": "code",
   "execution_count": 22,
   "id": "cdbd647c",
   "metadata": {},
   "outputs": [
    {
     "name": "stdout",
     "output_type": "stream",
     "text": [
      "\n",
      "Lambda_1 = 0.33333333333333315, associated to f_1 = [-0.40824829  0.          0.40824829], \n",
      "\n",
      "\n",
      "Lambda_2 = 0.0, associated to f_2 = [0. 0. 0.], \n",
      "\n",
      "\n",
      "Lambda_3 = 0.1111111111111111, associated to f_3 = [ 0.13608276 -0.27216553  0.13608276], \n",
      "\n"
     ]
    }
   ],
   "source": [
    "# Here we transform the unit eigenvectors into f, the vector whose length is equal \n",
    "# to the eigenvector. Notice how the 2nd vector, [(1/sqrt(3))*unit vector] is taken \n",
    "# to zero to satisfy this condition (since it's eigenvalue is 0).\n",
    "\n",
    "# (In case of the second vector, it naturally still makes sense to talk about \n",
    "# [0.57735027 0.57735027 0.57735027] as the eigenvector associated to Lambda_2 = 0).\n",
    "\n",
    "f = np.empty([3, 3])\n",
    "for i in range(3): \n",
    "    f[i] = eigenvector[i]*np.sqrt(eigenvalue[i])\n",
    "    print(\"\\nLambda_{} = {}, associated to f_{} = {}, \\n\".format(i+1, eigenvalue[i], i+1, f[i]))"
   ]
  },
  {
   "cell_type": "code",
   "execution_count": 23,
   "id": "e781987c",
   "metadata": {},
   "outputs": [
    {
     "name": "stdout",
     "output_type": "stream",
     "text": [
      "0.33333333333333315\n",
      "0.0\n",
      "0.1111111111111111\n"
     ]
    }
   ],
   "source": [
    "# Here we observe that the length of f is indeed the lambda, proven in exercise 1.10.\n",
    "\n",
    "for i in range(3): \n",
    "    print(f[i]@f[i])"
   ]
  },
  {
   "cell_type": "code",
   "execution_count": null,
   "id": "8f9f805d",
   "metadata": {},
   "outputs": [],
   "source": []
  }
 ],
 "metadata": {
  "kernelspec": {
   "display_name": "Python 3 (ipykernel)",
   "language": "python",
   "name": "python3"
  },
  "language_info": {
   "codemirror_mode": {
    "name": "ipython",
    "version": 3
   },
   "file_extension": ".py",
   "mimetype": "text/x-python",
   "name": "python",
   "nbconvert_exporter": "python",
   "pygments_lexer": "ipython3",
   "version": "3.10.6"
  }
 },
 "nbformat": 4,
 "nbformat_minor": 5
}
